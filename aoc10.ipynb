{
 "cells": [
  {
   "cell_type": "markdown",
   "metadata": {},
   "source": [
    "https://adventofcode.com/2020/day/10\n",
    "\n",
    "--- Day 10: Adapter Array ---\n",
    "===\n",
    "\n",
    "Patched into the aircraft's data port, you discover weather forecasts of a massive tropical storm. Before you can figure out whether it will impact your vacation plans, however, your device suddenly turns off!\n",
    "\n",
    "Its battery is dead.\n",
    "\n",
    "You'll need to plug it in. There's only one problem: the charging outlet near your seat produces the wrong number of jolts. Always prepared, you make a list of all of the joltage adapters in your bag.\n",
    "\n",
    "Each of your joltage adapters is rated for a specific output joltage (your puzzle input). Any given adapter can take an input 1, 2, or 3 jolts lower than its rating and still produce its rated output joltage.\n",
    "\n",
    "In addition, your device has a built-in joltage adapter rated for 3 jolts higher than the highest-rated adapter in your bag. (If your adapter list were 3, 9, and 6, your device's built-in adapter would be rated for 12 jolts.)\n",
    "\n",
    "Treat the charging outlet near your seat as having an effective joltage rating of 0.\n",
    "\n",
    "Since you have some time to kill, you might as well test all of your adapters. Wouldn't want to get to your resort and realize you can't even charge your device!\n",
    "\n",
    "If you use every adapter in your bag at once, what is the distribution of joltage differences between the charging outlet, the adapters, and your device?\n",
    "\n",
    "For example, suppose that in your bag, you have adapters with the following joltage ratings:\n",
    "```\n",
    "16\n",
    "10\n",
    "15\n",
    "5\n",
    "1\n",
    "11\n",
    "7\n",
    "19\n",
    "6\n",
    "12\n",
    "4\n",
    "```\n",
    "With these adapters, your device's built-in joltage adapter would be rated for 19 + 3 = 22 jolts, 3 higher than the highest-rated adapter.\n",
    "\n",
    "Because adapters can only connect to a source 1-3 jolts lower than its rating, in order to use every adapter, you'd need to choose them like this:\n",
    "\n",
    "* The charging outlet has an effective rating of 0 jolts, so the only adapters that could connect to it directly would need to have a joltage rating of 1, 2, or 3 jolts. Of these, only one you have is an adapter rated 1 jolt (difference of 1).\n",
    "* From your 1-jolt rated adapter, the only choice is your 4-jolt rated adapter (difference of 3).\n",
    "* From the 4-jolt rated adapter, the adapters rated 5, 6, or 7 are valid choices. However, in order to not skip any adapters, you have to pick the adapter rated 5 jolts (difference of 1).\n",
    "* Similarly, the next choices would need to be the adapter rated 6 and then the adapter rated 7 (with difference of 1 and 1).\n",
    "* The only adapter that works with the 7-jolt rated adapter is the one rated 10 jolts (difference of 3).\n",
    "* From 10, the choices are 11 or 12; choose 11 (difference of 1) and then 12 (difference of 1).\n",
    "* After 12, only valid adapter has a rating of 15 (difference of 3), then 16 (difference of 1), then 19 (difference of 3).\n",
    "* Finally, your device's built-in adapter is always 3 higher than the highest adapter, so its rating is 22 jolts (always a difference of 3).\n",
    "\n",
    "In this example, when using every adapter, there are 7 differences of 1 jolt and 5 differences of 3 jolts.\n",
    "\n",
    "Here is a larger example:\n",
    "```\n",
    "28\n",
    "33\n",
    "18\n",
    "42\n",
    "31\n",
    "14\n",
    "46\n",
    "20\n",
    "48\n",
    "47\n",
    "24\n",
    "23\n",
    "49\n",
    "45\n",
    "19\n",
    "38\n",
    "39\n",
    "11\n",
    "1\n",
    "32\n",
    "25\n",
    "35\n",
    "8\n",
    "17\n",
    "7\n",
    "9\n",
    "4\n",
    "2\n",
    "34\n",
    "10\n",
    "3\n",
    "```\n",
    "In this larger example, in a chain that uses all of the adapters, there are 22 differences of 1 jolt and 10 differences of 3 jolts.\n",
    "\n",
    "Find a chain that uses all of your adapters to connect the charging outlet to your device's built-in adapter and count the joltage differences between the charging outlet, the adapters, and your device. What is the number of 1-jolt differences multiplied by the number of 3-jolt differences?\n",
    "\n",
    "Your puzzle answer was 2100.\n",
    "\n",
    "--- Part Two ---\n",
    "===\n",
    "\n",
    "To completely determine whether you have enough adapters, you'll need to figure out how many different ways they can be arranged. Every arrangement needs to connect the charging outlet to your device. The previous rules about when adapters can successfully connect still apply.\n",
    "\n",
    "The first example above (the one that starts with 16, 10, 15) supports the following arrangements:\n",
    "```\n",
    "(0), 1, 4, 5, 6, 7, 10, 11, 12, 15, 16, 19, (22)\n",
    "(0), 1, 4, 5, 6, 7, 10, 12, 15, 16, 19, (22)\n",
    "(0), 1, 4, 5, 7, 10, 11, 12, 15, 16, 19, (22)\n",
    "(0), 1, 4, 5, 7, 10, 12, 15, 16, 19, (22)\n",
    "(0), 1, 4, 6, 7, 10, 11, 12, 15, 16, 19, (22)\n",
    "(0), 1, 4, 6, 7, 10, 12, 15, 16, 19, (22)\n",
    "(0), 1, 4, 7, 10, 11, 12, 15, 16, 19, (22)\n",
    "(0), 1, 4, 7, 10, 12, 15, 16, 19, (22)\n",
    "```\n",
    "(The charging outlet and your device's built-in adapter are shown in parentheses.) Given the adapters from the first example, the total number of arrangements that connect the charging outlet to your device is 8.\n",
    "\n",
    "The second example above (the one that starts with 28, 33, 18) has many arrangements. Here are a few:\n",
    "```\n",
    "(0), 1, 2, 3, 4, 7, 8, 9, 10, 11, 14, 17, 18, 19, 20, 23, 24, 25, 28, 31,\n",
    "32, 33, 34, 35, 38, 39, 42, 45, 46, 47, 48, 49, (52)\n",
    "\n",
    "(0), 1, 2, 3, 4, 7, 8, 9, 10, 11, 14, 17, 18, 19, 20, 23, 24, 25, 28, 31,\n",
    "32, 33, 34, 35, 38, 39, 42, 45, 46, 47, 49, (52)\n",
    "\n",
    "(0), 1, 2, 3, 4, 7, 8, 9, 10, 11, 14, 17, 18, 19, 20, 23, 24, 25, 28, 31,\n",
    "32, 33, 34, 35, 38, 39, 42, 45, 46, 48, 49, (52)\n",
    "\n",
    "(0), 1, 2, 3, 4, 7, 8, 9, 10, 11, 14, 17, 18, 19, 20, 23, 24, 25, 28, 31,\n",
    "32, 33, 34, 35, 38, 39, 42, 45, 46, 49, (52)\n",
    "\n",
    "(0), 1, 2, 3, 4, 7, 8, 9, 10, 11, 14, 17, 18, 19, 20, 23, 24, 25, 28, 31,\n",
    "32, 33, 34, 35, 38, 39, 42, 45, 47, 48, 49, (52)\n",
    "\n",
    "(0), 3, 4, 7, 10, 11, 14, 17, 20, 23, 25, 28, 31, 34, 35, 38, 39, 42, 45,\n",
    "46, 48, 49, (52)\n",
    "\n",
    "(0), 3, 4, 7, 10, 11, 14, 17, 20, 23, 25, 28, 31, 34, 35, 38, 39, 42, 45,\n",
    "46, 49, (52)\n",
    "\n",
    "(0), 3, 4, 7, 10, 11, 14, 17, 20, 23, 25, 28, 31, 34, 35, 38, 39, 42, 45,\n",
    "47, 48, 49, (52)\n",
    "\n",
    "(0), 3, 4, 7, 10, 11, 14, 17, 20, 23, 25, 28, 31, 34, 35, 38, 39, 42, 45,\n",
    "47, 49, (52)\n",
    "\n",
    "(0), 3, 4, 7, 10, 11, 14, 17, 20, 23, 25, 28, 31, 34, 35, 38, 39, 42, 45,\n",
    "48, 49, (52)\n",
    "```\n",
    "In total, this set of adapters can connect the charging outlet to your device in 19208 distinct arrangements.\n",
    "\n",
    "You glance back down at your bag and try to remember why you brought so many adapters; there must be more than a trillion valid ways to arrange them! Surely, there must be an efficient way to count the arrangements.\n",
    "\n",
    "What is the total number of distinct ways you can arrange the adapters to connect the charging outlet to your device?\n",
    "\n",
    "Your puzzle answer was 16198260678656.\n",
    "\n"
   ]
  },
  {
   "cell_type": "code",
   "execution_count": 1,
   "metadata": {},
   "outputs": [],
   "source": [
    "from functools import lru_cache\n",
    "from collections import Counter"
   ]
  },
  {
   "cell_type": "code",
   "execution_count": 2,
   "metadata": {},
   "outputs": [
    {
     "data": {
      "text/plain": [
       "2100"
      ]
     },
     "execution_count": 2,
     "metadata": {},
     "output_type": "execute_result"
    }
   ],
   "source": [
    "d = sorted([int(x) for x in open(\"data/day10.txt\").read().split()])\n",
    "c = Counter([i-j for i, j in zip(d,[0]+d[:-1])]+[3])\n",
    "c[1] * c[3]"
   ]
  },
  {
   "cell_type": "code",
   "execution_count": 3,
   "metadata": {},
   "outputs": [
    {
     "name": "stdout",
     "output_type": "stream",
     "text": [
      "76.3 µs ± 2.03 µs per loop (mean ± std. dev. of 7 runs, 10000 loops each)\n"
     ]
    }
   ],
   "source": [
    "%%timeit\n",
    "d = sorted([int(x) for x in open(\"data/day10.txt\").read().split()])\n",
    "c = Counter([i-j for i, j in zip(d,[0]+d[:-1])]+[3])\n",
    "c[1] * c[3]"
   ]
  },
  {
   "cell_type": "code",
   "execution_count": 4,
   "metadata": {},
   "outputs": [
    {
     "data": {
      "text/plain": [
       "16198260678656"
      ]
     },
     "execution_count": 4,
     "metadata": {},
     "output_type": "execute_result"
    }
   ],
   "source": [
    "@lru_cache(maxsize=None)\n",
    "def cc(i):\n",
    "    if i == len(d)-1:\n",
    "        return 1\n",
    "    else:\n",
    "        return sum([cc(i+x) for x in range(1,4) if (i+x < len(d)) and d[i+x]-d[i] <= 3])\n",
    "    \n",
    "cc.cache_clear()\n",
    "d = [0]+sorted([int(x) for x in open(\"data/day10.txt\").read().split()])\n",
    "cc(0)"
   ]
  },
  {
   "cell_type": "code",
   "execution_count": 5,
   "metadata": {},
   "outputs": [
    {
     "name": "stdout",
     "output_type": "stream",
     "text": [
      "206 µs ± 7.12 µs per loop (mean ± std. dev. of 7 runs, 1000 loops each)\n"
     ]
    }
   ],
   "source": [
    "%%timeit\n",
    "cc.cache_clear()\n",
    "d = [0]+sorted([int(x) for x in open(\"data/day10.txt\").read().split()])\n",
    "cc(0)"
   ]
  }
 ],
 "metadata": {
  "kernelspec": {
   "display_name": "Python 3",
   "language": "python",
   "name": "python3"
  },
  "language_info": {
   "codemirror_mode": {
    "name": "ipython",
    "version": 3
   },
   "file_extension": ".py",
   "mimetype": "text/x-python",
   "name": "python",
   "nbconvert_exporter": "python",
   "pygments_lexer": "ipython3",
   "version": "3.8.5"
  }
 },
 "nbformat": 4,
 "nbformat_minor": 4
}

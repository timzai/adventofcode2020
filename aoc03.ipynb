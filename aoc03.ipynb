{
 "cells": [
  {
   "cell_type": "markdown",
   "metadata": {},
   "source": [
    "https://adventofcode.com/2020/day/3\n",
    "\n",
    "<h2>--- Day 3: Toboggan Trajectory ---</h2><p>With the toboggan login problems resolved, you set off toward the airport. While travel by toboggan might be easy, it's certainly not safe: there's <span title=\"It looks like the toboggan steering system even runs on Intcode! Good thing you don't have to modify it.\">very minimal steering</span> and the area is covered in trees. You'll need to see which angles will take you near the fewest trees.</p>\n",
    "<p>Due to the local geology, trees in this area only grow on exact integer coordinates in a grid. You make a map (your puzzle input) of the open squares (<code>.</code>) and trees (<code>#</code>) you can see. For example:</p>\n",
    "<pre><code>..##.......\n",
    "#...#...#..\n",
    ".#....#..#.\n",
    "..#.#...#.#\n",
    ".#...##..#.\n",
    "..#.##.....\n",
    ".#.#.#....#\n",
    ".#........#\n",
    "#.##...#...\n",
    "#...##....#\n",
    ".#..#...#.#\n",
    "</code></pre>\n",
    "<p>These aren't the only trees, though; due to something you read about once involving arboreal genetics and biome stability, the same pattern repeats to the right many times:</p>\n",
    "<pre><code><em>..##.......</em>..##.........##.........##.........##.........##.......  ---&gt;\n",
    "<em>#...#...#..</em>#...#...#..#...#...#..#...#...#..#...#...#..#...#...#..\n",
    "<em>.#....#..#.</em>.#....#..#..#....#..#..#....#..#..#....#..#..#....#..#.\n",
    "<em>..#.#...#.#</em>..#.#...#.#..#.#...#.#..#.#...#.#..#.#...#.#..#.#...#.#\n",
    "<em>.#...##..#.</em>.#...##..#..#...##..#..#...##..#..#...##..#..#...##..#.\n",
    "<em>..#.##.....</em>..#.##.......#.##.......#.##.......#.##.......#.##.....  ---&gt;\n",
    "<em>.#.#.#....#</em>.#.#.#....#.#.#.#....#.#.#.#....#.#.#.#....#.#.#.#....#\n",
    "<em>.#........#</em>.#........#.#........#.#........#.#........#.#........#\n",
    "<em>#.##...#...</em>#.##...#...#.##...#...#.##...#...#.##...#...#.##...#...\n",
    "<em>#...##....#</em>#...##....##...##....##...##....##...##....##...##....#\n",
    "<em>.#..#...#.#</em>.#..#...#.#.#..#...#.#.#..#...#.#.#..#...#.#.#..#...#.#  ---&gt;\n",
    "</code></pre>\n",
    "<p>You start on the open square (<code>.</code>) in the top-left corner and need to reach the bottom (below the bottom-most row on your map).</p>\n",
    "<p>The toboggan can only follow a few specific slopes (you opted for a cheaper model that prefers rational numbers); start by <em>counting all the trees</em> you would encounter for the slope <em>right 3, down 1</em>:</p>\n",
    "<p>From your starting position at the top-left, check the position that is right 3 and down 1. Then, check the position that is right 3 and down 1 from there, and so on until you go past the bottom of the map.</p>\n",
    "<p>The locations you'd check in the above example are marked here with <code><em>O</em></code> where there was an open square and <code><em>X</em></code> where there was a tree:</p>\n",
    "<pre><code>..##.........##.........##.........##.........##.........##.......  ---&gt;\n",
    "#..<em>O</em>#...#..#...#...#..#...#...#..#...#...#..#...#...#..#...#...#..\n",
    ".#....<em>X</em>..#..#....#..#..#....#..#..#....#..#..#....#..#..#....#..#.\n",
    "..#.#...#<em>O</em>#..#.#...#.#..#.#...#.#..#.#...#.#..#.#...#.#..#.#...#.#\n",
    ".#...##..#..<em>X</em>...##..#..#...##..#..#...##..#..#...##..#..#...##..#.\n",
    "..#.##.......#.<em>X</em>#.......#.##.......#.##.......#.##.......#.##.....  ---&gt;\n",
    ".#.#.#....#.#.#.#.<em>O</em>..#.#.#.#....#.#.#.#....#.#.#.#....#.#.#.#....#\n",
    ".#........#.#........<em>X</em>.#........#.#........#.#........#.#........#\n",
    "#.##...#...#.##...#...#.<em>X</em>#...#...#.##...#...#.##...#...#.##...#...\n",
    "#...##....##...##....##...#<em>X</em>....##...##....##...##....##...##....#\n",
    ".#..#...#.#.#..#...#.#.#..#...<em>X</em>.#.#..#...#.#.#..#...#.#.#..#...#.#  ---&gt;\n",
    "</code></pre>\n",
    "<p>In this example, traversing the map using this slope would cause you to encounter <code><em>7</em></code> trees.</p>\n",
    "<p>Starting at the top-left corner of your map and following a slope of right 3 and down 1, <em>how many trees would you encounter?</em></p>\n",
    "</article>\n",
    "<p>Your puzzle answer was <code>280</code>.</p><article class=\"day-desc\"><h2 id=\"part2\">--- Part Two ---</h2><p>Time to check the rest of the slopes - you need to minimize the probability of a sudden arboreal stop, after all.</p>\n",
    "<p>Determine the number of trees you would encounter if, for each of the following slopes, you start at the top-left corner and traverse the map all the way to the bottom:</p>\n",
    "<ul>\n",
    "<li>Right 1, down 1.</li>\n",
    "<li>Right 3, down 1. (This is the slope you already checked.)</li>\n",
    "<li>Right 5, down 1.</li>\n",
    "<li>Right 7, down 1.</li>\n",
    "<li>Right 1, down 2.</li>\n",
    "</ul>\n",
    "<p>In the above example, these slopes would find <code>2</code>, <code>7</code>, <code>3</code>, <code>4</code>, and <code>2</code> tree(s) respectively; multiplied together, these produce the answer <code><em>336</em></code>.</p>\n",
    "<p><em>What do you get if you multiply together the number of trees encountered on each of the listed slopes?</em></p>\n",
    "</article>\n",
    "<p>Your puzzle answer was <code>4355551200</code>.</p>"
   ]
  },
  {
   "cell_type": "markdown",
   "metadata": {},
   "source": [
    "I wanted to tackle this problem without using a matrix, so I thought of just keeping track of a pointer and moving it according to the required logic.  Originally I wanted to just use `seek(p)` and `read(1)`, but loading the entire file into a string and using that was much quicker."
   ]
  },
  {
   "cell_type": "code",
   "execution_count": 1,
   "metadata": {},
   "outputs": [
    {
     "name": "stdout",
     "output_type": "stream",
     "text": [
      "280\n",
      "139 µs ± 14.6 µs per loop (mean ± std. dev. of 7 runs, 10000 loops each)\n",
      "4355551200\n",
      "407 µs ± 4.47 µs per loop (mean ± std. dev. of 7 runs, 1000 loops each)\n"
     ]
    }
   ],
   "source": [
    "def beepbeep(s, x_step, y_step, w, l, v):\n",
    "    c = x = p = 0\n",
    "    while True:\n",
    "        if s[p] is v:\n",
    "            c += 1\n",
    "        x += x_step\n",
    "        p += w * y_step + x_step\n",
    "        if x >= w - 1:\n",
    "            x = x - w + 1\n",
    "            p += 1-w\n",
    "        if p > l:\n",
    "            return c\n",
    "\n",
    "def beep(steps):\n",
    "    s = 1\n",
    "    with open(\"data/day03.txt\") as f:\n",
    "        c = f.read()\n",
    "        w = c.find('\\n')+1\n",
    "        for x,y in steps:\n",
    "            x = x % w\n",
    "            l = len(c)\n",
    "            s *= beepbeep(c,x,y,w,l,'#')\n",
    "        return s\n",
    "\n",
    "print(beep(((3,1),)))\n",
    "%timeit beep(((3,1),))\n",
    "print(beep(((1,1),(3,1),(5,1),(7,1),(1,2))))\n",
    "%timeit beep(((1,1),(3,1),(5,1),(7,1),(1,2)))"
   ]
  },
  {
   "cell_type": "markdown",
   "metadata": {},
   "source": [
    "Here's a matrix version that I modified from https://github.com/cassova/AdventOfCode2020 while discussing with him.  Not really intended to be readable.  Matrix version is more expensive initially to setup, but makes it up with faster speeds during the iteration."
   ]
  },
  {
   "cell_type": "code",
   "execution_count": 2,
   "metadata": {},
   "outputs": [],
   "source": [
    "from functools import reduce"
   ]
  },
  {
   "cell_type": "code",
   "execution_count": 3,
   "metadata": {},
   "outputs": [
    {
     "data": {
      "text/plain": [
       "(280, 4355551200)"
      ]
     },
     "execution_count": 3,
     "metadata": {},
     "output_type": "execute_result"
    }
   ],
   "source": [
    "with open(\"data/day03.txt\") as f:\n",
    "    d = f.readlines()\n",
    "h,w = len(d),len(d[0])-1\n",
    "([d[x][(x*3)%w] for x in range(h)].count('#'),\n",
    " reduce((lambda x,y:x*y),[[d[z*b][(z*a)%w] for z in range(h//b)].count('#') for a,b in ((1,1),(3,1),(5,1),(7,1),(1,2))]))"
   ]
  },
  {
   "cell_type": "code",
   "execution_count": 4,
   "metadata": {},
   "outputs": [
    {
     "name": "stdout",
     "output_type": "stream",
     "text": [
      "372 µs ± 3.4 µs per loop (mean ± std. dev. of 7 runs, 1000 loops each)\n"
     ]
    }
   ],
   "source": [
    "%%timeit\n",
    "with open(\"data/day03.txt\") as f:\n",
    "    d = f.readlines()\n",
    "h,w = len(d),len(d[0])-1\n",
    "([d[x][(x*3)%w] for x in range(h)].count('#'),\n",
    " reduce((lambda x,y:x*y),[[d[z*b][(z*a)%w] for z in range(h//b)].count('#') for a,b in ((1,1),(3,1),(5,1),(7,1),(1,2))]))"
   ]
  }
 ],
 "metadata": {
  "kernelspec": {
   "display_name": "Python 3",
   "language": "python",
   "name": "python3"
  },
  "language_info": {
   "codemirror_mode": {
    "name": "ipython",
    "version": 3
   },
   "file_extension": ".py",
   "mimetype": "text/x-python",
   "name": "python",
   "nbconvert_exporter": "python",
   "pygments_lexer": "ipython3",
   "version": "3.8.5"
  }
 },
 "nbformat": 4,
 "nbformat_minor": 4
}

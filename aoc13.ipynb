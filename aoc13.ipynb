{
 "cells": [
  {
   "cell_type": "markdown",
   "metadata": {},
   "source": [
    "https://adventofcode.com/2020/day/13\n",
    "\n",
    "<h2>--- Day 13: Shuttle Search ---</h2><p>Your ferry can make it safely to a nearby port, but it won't get much further. When you call to book another ship, you discover that no ships embark from that port to your vacation island. You'll need to get from the port to the nearest airport.</p>\n",
    "<p>Fortunately, a shuttle bus service is available to bring you from the sea port to the airport!  Each bus has an ID number that also indicates <em>how often the bus leaves for the airport</em>.</p>\n",
    "<p>Bus schedules are defined based on a <em>timestamp</em> that measures the <em>number of minutes</em> since some fixed reference point in the past. At timestamp <code>0</code>, every bus simultaneously departed from the sea port. After that, each bus travels to the airport, then various other locations, and finally returns to the sea port to repeat its journey forever.</p>\n",
    "<p>The time this loop takes a particular bus is also its ID number: the bus with ID <code>5</code> departs from the sea port at timestamps <code>0</code>, <code>5</code>, <code>10</code>, <code>15</code>, and so on. The bus with ID <code>11</code> departs at <code>0</code>, <code>11</code>, <code>22</code>, <code>33</code>, and so on. If you are there when the bus departs, you can ride that bus to the airport!</p>\n",
    "<p>Your notes (your puzzle input) consist of two lines.  The first line is your estimate of the <em>earliest timestamp you could depart on a bus</em>. The second line lists the bus IDs that are in service according to the shuttle company; entries that show <code>x</code> must be out of service, so you decide to ignore them.</p>\n",
    "<p>To save time once you arrive, your goal is to figure out <em>the earliest bus you can take to the airport</em>. (There will be exactly one such bus.)</p>\n",
    "<p>For example, suppose you have the following notes:</p>\n",
    "<pre><code>939\n",
    "7,13,x,x,59,x,31,19\n",
    "</code></pre>\n",
    "<p>Here, the earliest timestamp you could depart is <code>939</code>, and the bus IDs in service are <code>7</code>, <code>13</code>, <code>59</code>, <code>31</code>, and <code>19</code>. Near timestamp <code>939</code>, these bus IDs depart at the times marked <code>D</code>:</p>\n",
    "<pre><code>time   bus 7   bus 13  bus 59  bus 31  bus 19\n",
    "929      .       .       .       .       .\n",
    "930      .       .       .       D       .\n",
    "931      D       .       .       .       D\n",
    "932      .       .       .       .       .\n",
    "933      .       .       .       .       .\n",
    "934      .       .       .       .       .\n",
    "935      .       .       .       .       .\n",
    "936      .       D       .       .       .\n",
    "937      .       .       .       .       .\n",
    "938      D       .       .       .       .\n",
    "<em>939      .       .       .       .       .</em>\n",
    "940      .       .       .       .       .\n",
    "941      .       .       .       .       .\n",
    "942      .       .       .       .       .\n",
    "943      .       .       .       .       .\n",
    "<em>944      .       .       D       .       .</em>\n",
    "945      D       .       .       .       .\n",
    "946      .       .       .       .       .\n",
    "947      .       .       .       .       .\n",
    "948      .       .       .       .       .\n",
    "949      .       D       .       .       .\n",
    "</code></pre>\n",
    "<p>The earliest bus you could take is bus ID <code>59</code>. It doesn't depart until timestamp <code>944</code>, so you would need to wait <code>944 - 939 = 5</code> minutes before it departs. Multiplying the bus ID by the number of minutes you'd need to wait gives <em><code>295</code></em>.</p>\n",
    "<p><em>What is the ID of the earliest bus you can take to the airport multiplied by the number of minutes you'll need to wait for that bus?</em></p>\n",
    "</article>\n",
    "<p>Your puzzle answer was <code>8063</code>.</p><article class=\"day-desc\"><h2 id=\"part2\">--- Part Two ---</h2><p>The shuttle company is running a <span title=\"This is why you should never let me design a contest for a shuttle company.\">contest</span>: one gold coin for anyone that can find the earliest timestamp such that the first bus ID departs at that time and each subsequent listed bus ID departs at that subsequent minute. (The first line in your input is no longer relevant.)</p>\n",
    "<p>For example, suppose you have the same list of bus IDs as above:</p>\n",
    "<pre><code>7,13,x,x,59,x,31,19</code></pre>\n",
    "<p>An <code>x</code> in the schedule means there are no constraints on what bus IDs must depart at that time.</p>\n",
    "<p>This means you are looking for the earliest timestamp (called <code>t</code>) such that:</p>\n",
    "<ul>\n",
    "<li>Bus ID <code>7</code> departs at timestamp <code>t</code>.\n",
    "<li>Bus ID <code>13</code> departs one minute after timestamp <code>t</code>.</li>\n",
    "<li>There are no requirements or restrictions on departures at two or three minutes after timestamp <code>t</code>.</li>\n",
    "<li>Bus ID <code>59</code> departs four minutes after timestamp <code>t</code>.</li>\n",
    "<li>There are no requirements or restrictions on departures at five minutes after timestamp <code>t</code>.</li>\n",
    "<li>Bus ID <code>31</code> departs six minutes after timestamp <code>t</code>.</li>\n",
    "<li>Bus ID <code>19</code> departs seven minutes after timestamp <code>t</code>.</li>\n",
    "</ul>\n",
    "<p>The only bus departures that matter are the listed bus IDs at their specific offsets from <code>t</code>. Those bus IDs can depart at other times, and other bus IDs can depart at those times.  For example, in the list above, because bus ID <code>19</code> must depart seven minutes after the timestamp at which bus ID <code>7</code> departs, bus ID <code>7</code> will always <em>also</em> be departing with bus ID <code>19</code> at seven minutes after timestamp <code>t</code>.</p>\n",
    "<p>In this example, the earliest timestamp at which this occurs is <em><code>1068781</code></em>:</p>\n",
    "<pre><code>time     bus 7   bus 13  bus 59  bus 31  bus 19\n",
    "1068773    .       .       .       .       .\n",
    "1068774    D       .       .       .       .\n",
    "1068775    .       .       .       .       .\n",
    "1068776    .       .       .       .       .\n",
    "1068777    .       .       .       .       .\n",
    "1068778    .       .       .       .       .\n",
    "1068779    .       .       .       .       .\n",
    "1068780    .       .       .       .       .\n",
    "<em>1068781</em>    <em>D</em>       .       .       .       .\n",
    "<em>1068782</em>    .       <em>D</em>       .       .       .\n",
    "<em>1068783</em>    .       .       .       .       .\n",
    "<em>1068784</em>    .       .       .       .       .\n",
    "<em>1068785</em>    .       .       <em>D</em>       .       .\n",
    "<em>1068786</em>    .       .       .       .       .\n",
    "<em>1068787</em>    .       .       .       <em>D</em>       .\n",
    "<em>1068788</em>    D       .       .       .       <em>D</em>\n",
    "1068789    .       .       .       .       .\n",
    "1068790    .       .       .       .       .\n",
    "1068791    .       .       .       .       .\n",
    "1068792    .       .       .       .       .\n",
    "1068793    .       .       .       .       .\n",
    "1068794    .       .       .       .       .\n",
    "1068795    D       D       .       .       .\n",
    "1068796    .       .       .       .       .\n",
    "1068797    .       .       .       .       .\n",
    "</code></pre>\n",
    "<p>In the above example, bus ID <code>7</code> departs at timestamp <code>1068788</code> (seven minutes after <code>t</code>). This is fine; the only requirement on that minute is that bus ID <code>19</code> departs then, and it does.</p>\n",
    "<p>Here are some other examples:</p>\n",
    "<ul>\n",
    "<li>The earliest timestamp that matches the list <code>17,x,13,19</code> is <em><code>3417</code></em>.</li>\n",
    "<li><code>67,7,59,61</code> first occurs at timestamp <em><code>754018</code></em>.</li>\n",
    "<li><code>67,x,7,59,61</code> first occurs at timestamp <em><code>779210</code></em>.</li>\n",
    "<li><code>67,7,x,59,61</code> first occurs at timestamp <em><code>1261476</code></em>.</li>\n",
    "<li><code>1789,37,47,1889</code> first occurs at timestamp <em><code>1202161486</code></em>.</li>\n",
    "</ul>\n",
    "<p>However, with so many bus IDs in your list, surely the actual earliest timestamp will be larger than <code>100000000000000</code>!</p>\n",
    "<p><em>What is the earliest timestamp such that all of the listed bus IDs depart at offsets matching their positions in the list?</em></p>\n",
    "</article>\n",
    "<p>Your puzzle answer was <code>775230782877242</code>.</p>"
   ]
  },
  {
   "cell_type": "code",
   "execution_count": 1,
   "metadata": {},
   "outputs": [],
   "source": [
    "d = open(\"data/day13.txt\").read().split()\n",
    "\n",
    "bs = [int(c) for c in d[1].split(\",\") if c != \"x\"]\n",
    "bt = [b-int(d[0])%b for b in bs]\n",
    "idx = bt.index(min(bt))\n",
    "\n",
    "print(bt[idx] * bs[idx])"
   ]
  },
  {
   "cell_type": "markdown",
   "metadata": {},
   "source": [
    "This was the most frustrating day for me so far.  I had the logic done early on but I had somehow not considered that the bus may be at a position where its index is greater than the bus number.  In my case, bus 13 was at index 36 and when `n%13` was `10`, it didn't match with `36` :("
   ]
  },
  {
   "cell_type": "code",
   "execution_count": 2,
   "metadata": {},
   "outputs": [
    {
     "data": {
      "text/plain": [
       "775230782877242"
      ]
     },
     "execution_count": 2,
     "metadata": {},
     "output_type": "execute_result"
    }
   ],
   "source": [
    "def part2(b1,b2):\n",
    "    n = b2[0]\n",
    "    while True:\n",
    "        lcm = b1[0]*b1[1] # primes\n",
    "        if b2[1] == b1[1]-n%b1[1]:\n",
    "            if len(b1) == 2:\n",
    "                return n\n",
    "            else:\n",
    "                return part2([lcm] + b1[2:],[n]+b2[2:])\n",
    "        n+=b1[0]\n",
    "\n",
    "d = open(\"data/day13.txt\").read().split()\n",
    "bs = {int(c):i%int(c) for i,c in enumerate(d[1].split(\",\")) if c != \"x\"}\n",
    "part2(list(bs.keys()),list(bs.values()))"
   ]
  },
  {
   "cell_type": "code",
   "execution_count": 3,
   "metadata": {},
   "outputs": [
    {
     "name": "stdout",
     "output_type": "stream",
     "text": [
      "314 µs ± 20.8 µs per loop (mean ± std. dev. of 7 runs, 1000 loops each)\n"
     ]
    }
   ],
   "source": [
    "%%timeit\n",
    "d = open(\"data/day13.txt\").read().split()\n",
    "bs = {int(c):i%int(c) for i,c in enumerate(d[1].split(\",\")) if c != \"x\"}\n",
    "part2(list(bs.keys()),list(bs.values()))"
   ]
  }
 ],
 "metadata": {
  "kernelspec": {
   "display_name": "Python 3",
   "language": "python",
   "name": "python3"
  },
  "language_info": {
   "codemirror_mode": {
    "name": "ipython",
    "version": 3
   },
   "file_extension": ".py",
   "mimetype": "text/x-python",
   "name": "python",
   "nbconvert_exporter": "python",
   "pygments_lexer": "ipython3",
   "version": "3.8.5"
  }
 },
 "nbformat": 4,
 "nbformat_minor": 4
}

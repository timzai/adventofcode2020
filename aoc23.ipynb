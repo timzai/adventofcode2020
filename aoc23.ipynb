{
 "cells": [
  {
   "cell_type": "code",
   "execution_count": 55,
   "metadata": {},
   "outputs": [
    {
     "name": "stdout",
     "output_type": "stream",
     "text": [
      "26354798\n"
     ]
    }
   ],
   "source": [
    "from itertools import cycle\n",
    "\n",
    "cups = \"284573961\"\n",
    "# cups = \"389125467\"\n",
    "\n",
    "cups = list(map(int, cups))\n",
    "num_cups = len(cups)\n",
    "\n",
    "n = 100\n",
    "while True:\n",
    "    current_cup = cups[0]\n",
    "    pick_up = [cups.pop(1),cups.pop(1),cups.pop(1)]\n",
    "    next_cup = current_cup - 1\n",
    "    while True:\n",
    "        if next_cup == 0:\n",
    "            next_cup = 9\n",
    "        if next_cup not in pick_up:\n",
    "            break\n",
    "        next_cup -= 1\n",
    "    \n",
    "    idx = cups.index(next_cup)\n",
    "    \n",
    "    cups = cups*2\n",
    "    cups[idx+1:idx+1] = pick_up\n",
    "    cups = cups[1:1+num_cups]\n",
    "    \n",
    "    \n",
    "    n -= 1\n",
    "    if n == 0:\n",
    "        break\n",
    "idx = cups.index(1)\n",
    "print(\"\".join(map(str,(cups*2)[idx+1:idx+num_cups])))\n",
    "\n"
   ]
  }
 ],
 "metadata": {
  "kernelspec": {
   "display_name": "Python 3",
   "language": "python",
   "name": "python3"
  },
  "language_info": {
   "codemirror_mode": {
    "name": "ipython",
    "version": 3
   },
   "file_extension": ".py",
   "mimetype": "text/x-python",
   "name": "python",
   "nbconvert_exporter": "python",
   "pygments_lexer": "ipython3",
   "version": "3.8.5"
  }
 },
 "nbformat": 4,
 "nbformat_minor": 4
}

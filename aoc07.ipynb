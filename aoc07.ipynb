{
 "cells": [
  {
   "cell_type": "markdown",
   "metadata": {},
   "source": [
    "https://adventofcode.com/2020/day/7\n",
    "\n",
    "<h2>--- Day 7: Handy Haversacks ---</h2><p>You land at the regional airport in time for your next flight. In fact, it looks like you'll even have time to grab some food: all flights are currently delayed due to <em>issues in luggage processing</em>.</p>\n",
    "<p>Due to recent aviation regulations, many rules (your puzzle input) are being enforced about bags and their contents; bags must be color-coded and must contain specific quantities of other color-coded bags. Apparently, nobody responsible for these regulations considered how long they would take to enforce!</p>\n",
    "<p>For example, consider the following rules:</p>\n",
    "<pre><code>light red bags contain 1 bright white bag, 2 muted yellow bags.\n",
    "dark orange bags contain 3 bright white bags, 4 muted yellow bags.\n",
    "bright white bags contain 1 shiny gold bag.\n",
    "muted yellow bags contain 2 shiny gold bags, 9 faded blue bags.\n",
    "shiny gold bags contain 1 dark olive bag, 2 vibrant plum bags.\n",
    "dark olive bags contain 3 faded blue bags, 4 dotted black bags.\n",
    "vibrant plum bags contain 5 faded blue bags, 6 dotted black bags.\n",
    "faded blue bags contain no other bags.\n",
    "dotted black bags contain no other bags.\n",
    "</code></pre>\n",
    "<p>These rules specify the required contents for 9 bag types. In this example, every <code>faded blue</code> bag is empty, every <code>vibrant plum</code> bag contains 11 bags (5 <code>faded blue</code> and 6 <code>dotted black</code>), and so on.</p>\n",
    "<p>You have a <code><em>shiny gold</em></code> bag. If you wanted to carry it in at least one other bag, how many different bag colors would be valid for the outermost bag? (In other words: how many colors can, eventually, contain at least one <code>shiny gold</code> bag?)</p>\n",
    "<p>In the above rules, the following options would be available to you:</p>\n",
    "<ul>\n",
    "<li>A <code>bright white</code> bag, which can hold your <code>shiny gold</code> bag directly.</li>\n",
    "<li>A <code>muted yellow</code> bag, which can hold your <code>shiny gold</code> bag directly, plus some other bags.</li>\n",
    "<li>A <code>dark orange</code> bag, which can hold <code>bright white</code> and <code>muted yellow</code> bags, either of which could then hold your <code>shiny gold</code> bag.</li>\n",
    "<li>A <code>light red</code> bag, which can hold <code>bright white</code> and <code>muted yellow</code> bags, either of which could then hold your <code>shiny gold</code> bag.</li>\n",
    "</ul>\n",
    "<p>So, in this example, the number of bag colors that can eventually contain at least one <code>shiny gold</code> bag is <code><em>4</em></code>.</p>\n",
    "<p><em>How many bag colors can eventually contain at least one <code>shiny gold</code> bag?</em> (The list of rules is quite long; make sure you get all of it.)</p>\n",
    "</article>\n",
    "<p>Your puzzle answer was <code>242</code>.</p><article class=\"day-desc\"><h2 id=\"part2\">--- Part Two ---</h2><p>It's getting pretty expensive to fly these days - not because of ticket prices, but because of the ridiculous number of bags you need to buy!</p>\n",
    "<p>Consider again your <code>shiny gold</code> bag and the rules from the above example:</p>\n",
    "<ul>\n",
    "<li><code>faded blue</code> bags contain <code>0</code> other bags.</li>\n",
    "<li><code>dotted black</code> bags contain <code>0</code> other bags.</li>\n",
    "<li><code>vibrant plum</code> bags contain <code>11</code> other bags: 5 <code>faded blue</code> bags and 6 <code>dotted black</code> bags.</li>\n",
    "<li><code>dark olive</code> bags contain <code>7</code> other bags: 3 <code>faded blue</code> bags and 4 <code>dotted black</code> bags.</li>\n",
    "</ul>\n",
    "<p>So, a single <code>shiny gold</code> bag must contain 1 <code>dark olive</code> bag (and the 7 bags within it) plus 2 <code>vibrant plum</code> bags (and the 11 bags within <em>each</em> of those): <code>1 + 1*7 + 2 + 2*11</code> = <code><em>32</em></code> bags!</p>\n",
    "<p>Of course, the actual rules have a <span title=\"100%\">small</span> chance of going several levels deeper than this example; be sure to count all of the bags, even if the nesting becomes topologically impractical!</p>\n",
    "<p>Here's another example:</p>\n",
    "<pre><code>shiny gold bags contain 2 dark red bags.\n",
    "dark red bags contain 2 dark orange bags.\n",
    "dark orange bags contain 2 dark yellow bags.\n",
    "dark yellow bags contain 2 dark green bags.\n",
    "dark green bags contain 2 dark blue bags.\n",
    "dark blue bags contain 2 dark violet bags.\n",
    "dark violet bags contain no other bags.\n",
    "</code></pre>\n",
    "<p>In this example, a single <code>shiny gold</code> bag must contain <code><em>126</em></code> other bags.</p>\n",
    "<p><em>How many individual bags are required inside your single <code>shiny gold</code> bag?</em></p>\n",
    "</article>\n",
    "<p>Your puzzle answer was <code>176035</code>.</p>"
   ]
  },
  {
   "cell_type": "code",
   "execution_count": 1,
   "metadata": {},
   "outputs": [],
   "source": [
    "import re\n",
    "from collections import defaultdict "
   ]
  },
  {
   "cell_type": "code",
   "execution_count": 2,
   "metadata": {},
   "outputs": [],
   "source": [
    "def load_data():\n",
    "    bag_rules = [re.split(' bags contain | bags*, | bags*\\.',s) for s in open('data/day07.txt', 'r').read().split('\\n')]\n",
    "    parent_bags = defaultdict(set)\n",
    "    child_bags = defaultdict(dict)\n",
    "    for rule in bag_rules:\n",
    "        parent = rule[0]\n",
    "        for child in rule[1:-1]:\n",
    "            if child != \"no other\":\n",
    "                parent_bags[child[2:]].add(parent)\n",
    "                child_bags[parent][child[2:]] = int(child[0])\n",
    "    return parent_bags, child_bags"
   ]
  },
  {
   "cell_type": "code",
   "execution_count": 3,
   "metadata": {},
   "outputs": [],
   "source": [
    "def get_all_parents(bag):\n",
    "    for parent_bag in parent_bags[bag]:\n",
    "        if parent_bag not in known_parents:\n",
    "            known_parents.add(parent_bag)\n",
    "            get_all_parents(parent_bag)\n",
    "            \n",
    "def count_child_bags(bag, count):\n",
    "    c = count\n",
    "    for k,v in child_bags[bag].items():\n",
    "        c += count * count_child_bags(k,v)\n",
    "    return c"
   ]
  },
  {
   "cell_type": "code",
   "execution_count": 4,
   "metadata": {},
   "outputs": [
    {
     "name": "stdout",
     "output_type": "stream",
     "text": [
      "242 176035\n"
     ]
    }
   ],
   "source": [
    "parent_bags, child_bags = load_data()\n",
    "known_parents = set()\n",
    "get_all_parents(\"shiny gold\")\n",
    "print(len(known_parents),count_child_bags(\"shiny gold\", 1)-1)"
   ]
  },
  {
   "cell_type": "code",
   "execution_count": 5,
   "metadata": {},
   "outputs": [
    {
     "name": "stdout",
     "output_type": "stream",
     "text": [
      "2.51 ms ± 59.9 µs per loop (mean ± std. dev. of 7 runs, 100 loops each)\n"
     ]
    }
   ],
   "source": [
    "%%timeit\n",
    "parent_bags, child_bags = load_data()\n",
    "known_parents = set()\n",
    "get_all_parents(\"shiny gold\")\n",
    "(len(known_parents),count_child_bags(\"shiny gold\", 1)-1)"
   ]
  }
 ],
 "metadata": {
  "kernelspec": {
   "display_name": "Python 3",
   "language": "python",
   "name": "python3"
  },
  "language_info": {
   "codemirror_mode": {
    "name": "ipython",
    "version": 3
   },
   "file_extension": ".py",
   "mimetype": "text/x-python",
   "name": "python",
   "nbconvert_exporter": "python",
   "pygments_lexer": "ipython3",
   "version": "3.8.5"
  }
 },
 "nbformat": 4,
 "nbformat_minor": 4
}

{
 "cells": [
  {
   "cell_type": "markdown",
   "metadata": {},
   "source": [
    "https://adventofcode.com/2020/day/1\n",
    "\n",
    "<h2>--- Day 1: Report Repair ---</h2><p>After saving Christmas <a href=\"/events\">five years in a row</a>, you've decided to take a vacation at a nice resort on a tropical island. <span title=\"WHAT COULD GO WRONG\">Surely</span>, Christmas will go on without you.</p>\n",
    "<p>The tropical island has its own currency and is entirely cash-only.  The gold coins used there have a little picture of a starfish; the locals just call them <em class=\"star\">stars</em>. None of the currency exchanges seem to have heard of them, but somehow, you'll need to find fifty of these coins by the time you arrive so you can pay the deposit on your room.</p>\n",
    "<p>To save your vacation, you need to get all <em class=\"star\">fifty stars</em> by December 25th.</p>\n",
    "<p>Collect stars by solving puzzles.  Two puzzles will be made available on each day in the Advent calendar; the second puzzle is unlocked when you complete the first.  Each puzzle grants <em class=\"star\">one star</em>. Good luck!</p>\n",
    "<p>Before you leave, the Elves in accounting just need you to fix your <em>expense report</em> (your puzzle input); apparently, something isn't quite adding up.</p>\n",
    "<p>Specifically, they need you to <em>find the two entries that sum to <code>2020</code></em> and then multiply those two numbers together.</p>\n",
    "<p>For example, suppose your expense report contained the following:</p>\n",
    "<pre><code>1721\n",
    "979\n",
    "366\n",
    "299\n",
    "675\n",
    "1456\n",
    "</code></pre>\n",
    "<p>In this list, the two entries that sum to <code>2020</code> are <code>1721</code> and <code>299</code>. Multiplying them together produces <code>1721 * 299 = 514579</code>, so the correct answer is <code><em>514579</em></code>.</p>\n",
    "<p>Of course, your expense report is much larger. <em>Find the two entries that sum to <code>2020</code>; what do you get if you multiply them together?</em></p>\n",
    "</article>\n",
    "<p>Your puzzle answer was <code>290784</code>.</p><article class=\"day-desc\"><h2 id=\"part2\">--- Part Two ---</h2><p>The Elves in accounting are thankful for your help; one of them even offers you a starfish coin they had left over from a past vacation. They offer you a second one if you can find <em>three</em> numbers in your expense report that meet the same criteria.</p>\n",
    "<p>Using the above example again, the three entries that sum to <code>2020</code> are <code>979</code>, <code>366</code>, and <code>675</code>. Multiplying them together produces the answer, <code><em>241861950</em></code>.</p>\n",
    "<p>In your expense report, <em>what is the product of the three entries that sum to <code>2020</code>?</em></p>\n",
    "</article>\n",
    "<p>Your puzzle answer was <code>177337980</code>.</p>"
   ]
  },
  {
   "cell_type": "markdown",
   "metadata": {},
   "source": [
    "Haven't done *k-sum* problems for a while.  Using hash-table here to improve speed a bit"
   ]
  },
  {
   "cell_type": "code",
   "execution_count": 1,
   "metadata": {},
   "outputs": [
    {
     "name": "stdout",
     "output_type": "stream",
     "text": [
      "290784\n",
      "40.1 µs ± 6.52 µs per loop (mean ± std. dev. of 7 runs, 10000 loops each)\n",
      "177337980\n",
      "99.9 µs ± 3.94 µs per loop (mean ± std. dev. of 7 runs, 10000 loops each)\n"
     ]
    }
   ],
   "source": [
    "from functools import reduce\n",
    "from itertools import islice\n",
    "\n",
    "with open(\"data/day01.txt\") as f:\n",
    "    data = [int(x.rstrip()) for x in f.readlines()]\n",
    "\n",
    "hash_table = dict()\n",
    "    \n",
    "def get_stuff(data, target, how_many, start=0):\n",
    "    if how_many == 2:\n",
    "        for x in islice(data,start,None):\n",
    "            y = target - x\n",
    "            if y in hash_table:\n",
    "                return [x,y]\n",
    "            else:\n",
    "                hash_table[x] = 0\n",
    "        return None\n",
    "    else:\n",
    "        i = start\n",
    "        while i < len(data)-start:\n",
    "            x = data[i]\n",
    "            children = get_stuff(data, target-x, how_many-1, i+1)\n",
    "            if children != None:\n",
    "                return children + [x]\n",
    "            i+=1\n",
    "    return None\n",
    "\n",
    "def k_sum(d, target, how_many):\n",
    "    return reduce((lambda x, y: x * y), get_stuff(d, target, how_many))\n",
    "\n",
    "\n",
    "hash_table = dict()\n",
    "print(k_sum(sorted(data), 2020, 2))\n",
    "%timeit hash_table = dict(); k_sum(sorted(data), 2020, 2)\n",
    "hash_table = dict()\n",
    "print(k_sum(sorted(data), 2020, 3))\n",
    "%timeit hash_table = dict(); k_sum(sorted(data), 2020, 3)"
   ]
  },
  {
   "cell_type": "markdown",
   "metadata": {},
   "source": [
    "I find this solution for *2-sum* by Sharon interesting.  Didn't cross my mind to use `set` and `intersection` in this way."
   ]
  },
  {
   "cell_type": "code",
   "execution_count": 2,
   "metadata": {},
   "outputs": [
    {
     "data": {
      "text/plain": [
       "{156, 1864}"
      ]
     },
     "execution_count": 2,
     "metadata": {},
     "output_type": "execute_result"
    }
   ],
   "source": [
    "import numpy as np\n",
    "f = [int(i.strip()) for i in open('data/day01.txt').readlines()]\n",
    "set(2020 - np.array(f)) & set(f)"
   ]
  },
  {
   "cell_type": "code",
   "execution_count": 3,
   "metadata": {},
   "outputs": [
    {
     "name": "stdout",
     "output_type": "stream",
     "text": [
      "210 µs ± 5.97 µs per loop (mean ± std. dev. of 7 runs, 10000 loops each)\n"
     ]
    }
   ],
   "source": [
    "%%timeit\n",
    "f = [int(i.strip()) for i in open('data/day01.txt').readlines()]\n",
    "set(2020 - np.array(f)) & set(f)"
   ]
  }
 ],
 "metadata": {
  "kernelspec": {
   "display_name": "Python 3",
   "language": "python",
   "name": "python3"
  },
  "language_info": {
   "codemirror_mode": {
    "name": "ipython",
    "version": 3
   },
   "file_extension": ".py",
   "mimetype": "text/x-python",
   "name": "python",
   "nbconvert_exporter": "python",
   "pygments_lexer": "ipython3",
   "version": "3.8.5"
  }
 },
 "nbformat": 4,
 "nbformat_minor": 4
}

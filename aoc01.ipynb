{
 "cells": [
  {
   "cell_type": "markdown",
   "metadata": {},
   "source": [
    "https://adventofcode.com/2020/day/1\n",
    "\n",
    "--- Day 1: Report Repair ---\n",
    "\n",
    "After saving Christmas five years in a row, you've decided to take a vacation at a nice resort on a tropical island. Surely, Christmas will go on without you.\n",
    "\n",
    "The tropical island has its own currency and is entirely cash-only. The gold coins used there have a little picture of a starfish; the locals just call them stars. None of the currency exchanges seem to have heard of them, but somehow, you'll need to find fifty of these coins by the time you arrive so you can pay the deposit on your room.\n",
    "\n",
    "To save your vacation, you need to get all fifty stars by December 25th.\n",
    "\n",
    "Collect stars by solving puzzles. Two puzzles will be made available on each day in the Advent calendar; the second puzzle is unlocked when you complete the first. Each puzzle grants one star. Good luck!\n",
    "\n",
    "Before you leave, the Elves in accounting just need you to fix your expense report (your puzzle input); apparently, something isn't quite adding up.\n",
    "\n",
    "Specifically, they need you to find the two entries that sum to 2020 and then multiply those two numbers together.\n",
    "\n",
    "For example, suppose your expense report contained the following:\n",
    "\n",
    "```1721\n",
    "979\n",
    "366\n",
    "299\n",
    "675\n",
    "1456\n",
    "```\n",
    "In this list, the two entries that sum to 2020 are 1721 and 299. Multiplying them together produces 1721 * 299 = 514579, so the correct answer is 514579.\n",
    "\n",
    "Of course, your expense report is much larger. Find the two entries that sum to 2020; what do you get if you multiply them together?\n",
    "\n",
    "Your puzzle answer was 290784.\n",
    "\n",
    "--- Part Two ---\n",
    "\n",
    "The Elves in accounting are thankful for your help; one of them even offers you a starfish coin they had left over from a past vacation. They offer you a second one if you can find three numbers in your expense report that meet the same criteria.\n",
    "\n",
    "Using the above example again, the three entries that sum to 2020 are 979, 366, and 675. Multiplying them together produces the answer, 241861950.\n",
    "\n",
    "In your expense report, what is the product of the three entries that sum to 2020?\n",
    "\n",
    "Your puzzle answer was 177337980."
   ]
  },
  {
   "cell_type": "markdown",
   "metadata": {},
   "source": [
    "Haven't done *k-sum* problems for a while.  Using hash-table here to improve speed a bit"
   ]
  },
  {
   "cell_type": "code",
   "execution_count": 1,
   "metadata": {},
   "outputs": [
    {
     "name": "stdout",
     "output_type": "stream",
     "text": [
      "290784\n",
      "40.1 µs ± 6.52 µs per loop (mean ± std. dev. of 7 runs, 10000 loops each)\n",
      "177337980\n",
      "99.9 µs ± 3.94 µs per loop (mean ± std. dev. of 7 runs, 10000 loops each)\n"
     ]
    }
   ],
   "source": [
    "from functools import reduce\n",
    "from itertools import islice\n",
    "\n",
    "with open(\"data/day01.txt\") as f:\n",
    "    data = [int(x.rstrip()) for x in f.readlines()]\n",
    "\n",
    "hash_table = dict()\n",
    "    \n",
    "def get_stuff(data, target, how_many, start=0):\n",
    "    if how_many == 2:\n",
    "        for x in islice(data,start,None):\n",
    "            y = target - x\n",
    "            if y in hash_table:\n",
    "                return [x,y]\n",
    "            else:\n",
    "                hash_table[x] = 0\n",
    "        return None\n",
    "    else:\n",
    "        i = start\n",
    "        while i < len(data)-start:\n",
    "            x = data[i]\n",
    "            children = get_stuff(data, target-x, how_many-1, i+1)\n",
    "            if children != None:\n",
    "                return children + [x]\n",
    "            i+=1\n",
    "    return None\n",
    "\n",
    "def k_sum(d, target, how_many):\n",
    "    return reduce((lambda x, y: x * y), get_stuff(d, target, how_many))\n",
    "\n",
    "\n",
    "hash_table = dict()\n",
    "print(k_sum(sorted(data), 2020, 2))\n",
    "%timeit hash_table = dict(); k_sum(sorted(data), 2020, 2)\n",
    "hash_table = dict()\n",
    "print(k_sum(sorted(data), 2020, 3))\n",
    "%timeit hash_table = dict(); k_sum(sorted(data), 2020, 3)"
   ]
  },
  {
   "cell_type": "markdown",
   "metadata": {},
   "source": [
    "I find this solution for *2-sum* by Sharon interesting.  Didn't cross my mind to use `set` and `intersection` in this way."
   ]
  },
  {
   "cell_type": "code",
   "execution_count": 2,
   "metadata": {},
   "outputs": [
    {
     "data": {
      "text/plain": [
       "{156, 1864}"
      ]
     },
     "execution_count": 2,
     "metadata": {},
     "output_type": "execute_result"
    }
   ],
   "source": [
    "import numpy as np\n",
    "f = [int(i.strip()) for i in open('data/day01.txt').readlines()]\n",
    "set(2020 - np.array(f)) & set(f)"
   ]
  },
  {
   "cell_type": "code",
   "execution_count": 3,
   "metadata": {},
   "outputs": [
    {
     "name": "stdout",
     "output_type": "stream",
     "text": [
      "210 µs ± 5.97 µs per loop (mean ± std. dev. of 7 runs, 10000 loops each)\n"
     ]
    }
   ],
   "source": [
    "%%timeit\n",
    "f = [int(i.strip()) for i in open('data/day01.txt').readlines()]\n",
    "set(2020 - np.array(f)) & set(f)"
   ]
  }
 ],
 "metadata": {
  "kernelspec": {
   "display_name": "Python 3",
   "language": "python",
   "name": "python3"
  },
  "language_info": {
   "codemirror_mode": {
    "name": "ipython",
    "version": 3
   },
   "file_extension": ".py",
   "mimetype": "text/x-python",
   "name": "python",
   "nbconvert_exporter": "python",
   "pygments_lexer": "ipython3",
   "version": "3.8.5"
  }
 },
 "nbformat": 4,
 "nbformat_minor": 4
}

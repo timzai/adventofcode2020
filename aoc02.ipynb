{
 "cells": [
  {
   "cell_type": "markdown",
   "metadata": {},
   "source": [
    "https://adventofcode.com/2020/day/2\n",
    "\n",
    "<h2>--- Day 2: Password Philosophy ---</h2><p>Your flight departs in a few days from the coastal airport; the easiest way down to the coast from here is via <a href=\"https://en.wikipedia.org/wiki/Toboggan\" target=\"_blank\">toboggan</a>.</p>\n",
    "<p>The shopkeeper at the North Pole Toboggan Rental Shop is having a bad day. \"Something's wrong with our computers; we can't log in!\" You ask if you can take a look.</p>\n",
    "<p>Their password database seems to be a little corrupted: some of the passwords wouldn't have been allowed by the <span title=\"To ensure your safety, your password must be the following string...\">Official Toboggan Corporate Policy</span> that was in effect when they were chosen.</p>\n",
    "<p>To try to debug the problem, they have created a list (your puzzle input) of <em>passwords</em> (according to the corrupted database) and <em>the corporate policy when that password was set</em>.</p>\n",
    "<p>For example, suppose you have the following list:</p>\n",
    "<pre><code>1-3 a: abcde\n",
    "1-3 b: cdefg\n",
    "2-9 c: ccccccccc\n",
    "</code></pre>\n",
    "<p>Each line gives the password policy and then the password. The password policy indicates the lowest and highest number of times a given letter must appear for the password to be valid. For example, <code>1-3 a</code> means that the password must contain <code>a</code> at least <code>1</code> time and at most <code>3</code> times.</p>\n",
    "<p>In the above example, <code><em>2</em></code> passwords are valid. The middle password, <code>cdefg</code>, is not; it contains no instances of <code>b</code>, but needs at least <code>1</code>. The first and third passwords are valid: they contain one <code>a</code> or nine <code>c</code>, both within the limits of their respective policies.</p>\n",
    "<p><em>How many passwords are valid</em> according to their policies?</p>\n",
    "</article>\n",
    "<p>Your puzzle answer was <code>506</code>.</p><article class=\"day-desc\"><h2 id=\"part2\">--- Part Two ---</h2><p>While it appears you validated the passwords correctly, they don't seem to be what the Official Toboggan Corporate Authentication System is expecting.</p>\n",
    "<p>The shopkeeper suddenly realizes that he just accidentally explained the password policy rules from his old job at the sled rental place down the street! The Official Toboggan Corporate Policy actually works a little differently.</p>\n",
    "<p>Each policy actually describes two <em>positions in the password</em>, where <code>1</code> means the first character, <code>2</code> means the second character, and so on. (Be careful; Toboggan Corporate Policies have no concept of \"index zero\"!) <em>Exactly one of these positions</em> must contain the given letter. Other occurrences of the letter are irrelevant for the purposes of policy enforcement.</p>\n",
    "<p>Given the same example list from above:</p>\n",
    "<ul>\n",
    "<li><code>1-3 a: <em>a</em>b<em>c</em>de</code> is <em>valid</em>: position <code>1</code> contains <code>a</code> and position <code>3</code> does not.</li>\n",
    "<li><code>1-3 b: <em>c</em>d<em>e</em>fg</code> is <em>invalid</em>: neither position <code>1</code> nor position <code>3</code> contains <code>b</code>.</li>\n",
    "<li><code>2-9 c: c<em>c</em>cccccc<em>c</em></code> is <em>invalid</em>: both position <code>2</code> and position <code>9</code> contain <code>c</code>.</li>\n",
    "</ul>\n",
    "<p><em>How many passwords are valid</em> according to the new interpretation of the policies?</em></p>\n",
    "</article>\n",
    "<p>Your puzzle answer was <code>443</code>.</p>"
   ]
  },
  {
   "cell_type": "markdown",
   "metadata": {},
   "source": [
    "Did this with `re`, seems straightforward enough.  Since it's `O(n)` don't really want to spend too much more time optimizing it."
   ]
  },
  {
   "cell_type": "code",
   "execution_count": 1,
   "metadata": {},
   "outputs": [
    {
     "name": "stdout",
     "output_type": "stream",
     "text": [
      "506\n",
      "443\n"
     ]
    }
   ],
   "source": [
    "import re\n",
    "r = re.compile(r'(\\d+)-(\\d+) (\\w+): (.*)')\n",
    "with open(\"data/day02.txt\") as f:\n",
    "    data = r.findall(f.read())\n",
    "\n",
    "print(len([1 for m1,m2,c,pw in data if int(m1) <= pw.count(c) <= int(m2)]))\n",
    "print(len([1 for m1,m2,c,pw in data if (pw[int(m1)-1] == c) ^ (pw[int(m2)-1] == c)]))"
   ]
  },
  {
   "cell_type": "code",
   "execution_count": 2,
   "metadata": {},
   "outputs": [
    {
     "name": "stdout",
     "output_type": "stream",
     "text": [
      "1.5 ms ± 15.5 µs per loop (mean ± std. dev. of 7 runs, 1000 loops each)\n"
     ]
    }
   ],
   "source": [
    "%%timeit\n",
    "with open(\"data/day02.txt\") as f:\n",
    "    data = r.findall(f.read())\n",
    "\n",
    "len([1 for m1,m2,c,pw in data if int(m1) <= pw.count(c) <= int(m2)])\n",
    "len([1 for m1,m2,c,pw in data if (pw[int(m1)-1] == c) ^ (pw[int(m2)-1] == c)])"
   ]
  },
  {
   "cell_type": "markdown",
   "metadata": {},
   "source": [
    "Inspired by Nhan, I did a version for part 1 using `pandas` just to try out multiple separators for `read_csv()`.  A lot slower as expected, but learned something new."
   ]
  },
  {
   "cell_type": "code",
   "execution_count": 3,
   "metadata": {},
   "outputs": [],
   "source": [
    "import pandas as pd"
   ]
  },
  {
   "cell_type": "code",
   "execution_count": 4,
   "metadata": {},
   "outputs": [
    {
     "name": "stdout",
     "output_type": "stream",
     "text": [
      "37.5 ms ± 480 µs per loop (mean ± std. dev. of 7 runs, 10 loops each)\n"
     ]
    }
   ],
   "source": [
    "%%timeit\n",
    "data = pd.read_csv(\"data/day02.txt\",header = None, sep= ':|-| ', engine=\"python\")\n",
    "len(data[data.apply(lambda x:x.loc[0] <= x.loc[4].count(x.loc[2]) <= x.loc[1], axis=1)])"
   ]
  }
 ],
 "metadata": {
  "kernelspec": {
   "display_name": "Python 3",
   "language": "python",
   "name": "python3"
  },
  "language_info": {
   "codemirror_mode": {
    "name": "ipython",
    "version": 3
   },
   "file_extension": ".py",
   "mimetype": "text/x-python",
   "name": "python",
   "nbconvert_exporter": "python",
   "pygments_lexer": "ipython3",
   "version": "3.8.5"
  }
 },
 "nbformat": 4,
 "nbformat_minor": 4
}

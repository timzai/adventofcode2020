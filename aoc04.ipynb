{
 "cells": [
  {
   "cell_type": "markdown",
   "metadata": {},
   "source": [
    "https://adventofcode.com/2020/day/4\n",
    "\n",
    "<h2>--- Day 4: Passport Processing ---</h2><p>You arrive at the airport only to realize that you grabbed your North Pole Credentials instead of your passport. While these documents are extremely similar, North Pole Credentials aren't issued by a country and therefore aren't actually valid documentation for travel in most of the world.</p>\n",
    "<p>It seems like you're not the only one having problems, though; a very long line has formed for the automatic passport scanners, and the delay could upset your travel itinerary.</p>\n",
    "<p>Due to some questionable network security, you realize you might be able to solve both of these problems at the same time.</p>\n",
    "<p>The automatic passport scanners are slow because they're having trouble <em>detecting which passports have all required fields</em>. The expected fields are as follows:</p>\n",
    "<ul>\n",
    "<li><code>byr</code> (Birth Year)</li>\n",
    "<li><code>iyr</code> (Issue Year)</li>\n",
    "<li><code>eyr</code> (Expiration Year)</li>\n",
    "<li><code>hgt</code> (Height)</li>\n",
    "<li><code>hcl</code> (Hair Color)</li>\n",
    "<li><code>ecl</code> (Eye Color)</li>\n",
    "<li><code>pid</code> (Passport ID)</li>\n",
    "<li><code>cid</code> (Country ID)</li>\n",
    "</ul>\n",
    "<p>Passport data is validated in batch files (your puzzle input). Each passport is represented as a sequence of <code>key:value</code> pairs separated by spaces or newlines. Passports are separated by blank lines.</p>\n",
    "<p>Here is an example batch file containing four passports:</p>\n",
    "<pre><code>ecl:gry pid:860033327 eyr:2020 hcl:#fffffd\n",
    "byr:1937 iyr:2017 cid:147 hgt:183cm\n",
    "\n",
    "iyr:2013 ecl:amb cid:350 eyr:2023 pid:028048884\n",
    "hcl:#cfa07d byr:1929\n",
    "\n",
    "hcl:#ae17e1 iyr:2013\n",
    "eyr:2024\n",
    "ecl:brn pid:760753108 byr:1931\n",
    "hgt:179cm\n",
    "\n",
    "hcl:#cfa07d eyr:2025 pid:166559648\n",
    "iyr:2011 ecl:brn hgt:59in\n",
    "</code></pre>\n",
    "<p>The first passport is <em>valid</em> - all eight fields are present. The second passport is <em>invalid</em> - it is missing <code>hgt</code> (the Height field).</p>\n",
    "<p>The third passport is interesting; the <em>only missing field</em> is <code>cid</code>, so it looks like data from North Pole Credentials, not a passport at all! Surely, nobody would mind if you made the system temporarily ignore missing <code>cid</code> fields.  Treat this \"passport\" as <em>valid</em>.</p>\n",
    "<p>The fourth passport is missing two fields, <code>cid</code> and <code>byr</code>. Missing <code>cid</code> is fine, but missing any other field is not, so this passport is <em>invalid</em>.</p>\n",
    "<p>According to the above rules, your improved system would report <code><em>2</em></code> valid passports.</p>\n",
    "<p>Count the number of <em>valid</em> passports - those that have all required fields. Treat <code>cid</code> as optional. <em>In your batch file, how many passports are valid?</em></p>\n",
    "</article>\n",
    "<p>Your puzzle answer was <code>226</code>.</p><article class=\"day-desc\"><h2 id=\"part2\">--- Part Two ---</h2><p>The line is moving more quickly now, but you overhear airport security talking about how passports with invalid data are getting through. Better add some data validation, quick!</p>\n",
    "<p>You can continue to ignore the <code>cid</code> field, but each other field has <span title=\"GLORY TO ARSTOTZKA\">strict rules</span> about what values are valid for automatic validation:</p>\n",
    "<ul>\n",
    "<li><code>byr</code> (Birth Year) - four digits; at least <code>1920</code> and at most <code>2002</code>.</li>\n",
    "<li><code>iyr</code> (Issue Year) - four digits; at least <code>2010</code> and at most <code>2020</code>.</li>\n",
    "<li><code>eyr</code> (Expiration Year) - four digits; at least <code>2020</code> and at most <code>2030</code>.</li>\n",
    "<li><code>hgt</code> (Height) - a number followed by either <code>cm</code> or <code>in</code>:\n",
    "  <ul>\n",
    "  <li>If <code>cm</code>, the number must be at least <code>150</code> and at most <code>193</code>.</li>\n",
    "  <li>If <code>in</code>, the number must be at least <code>59</code> and at most <code>76</code>.</li>\n",
    "  </ul>\n",
    "</li>\n",
    "<li><code>hcl</code> (Hair Color) - a <code>#</code> followed by exactly six characters <code>0</code>-<code>9</code> or <code>a</code>-<code>f</code>.</li>\n",
    "<li><code>ecl</code> (Eye Color) - exactly one of: <code>amb</code> <code>blu</code> <code>brn</code> <code>gry</code> <code>grn</code> <code>hzl</code> <code>oth</code>.</li>\n",
    "<li><code>pid</code> (Passport ID) - a nine-digit number, including leading zeroes.</li>\n",
    "<li><code>cid</code> (Country ID) - ignored, missing or not.</li>\n",
    "</ul>\n",
    "<p>Your job is to count the passports where all required fields are both <em>present</em> and <em>valid</em> according to the above rules. Here are some example values:</p>\n",
    "<pre><code>byr valid:   2002\n",
    "byr invalid: 2003\n",
    "\n",
    "hgt valid:   60in\n",
    "hgt valid:   190cm\n",
    "hgt invalid: 190in\n",
    "hgt invalid: 190\n",
    "\n",
    "hcl valid:   #123abc\n",
    "hcl invalid: #123abz\n",
    "hcl invalid: 123abc\n",
    "\n",
    "ecl valid:   brn\n",
    "ecl invalid: wat\n",
    "\n",
    "pid valid:   000000001\n",
    "pid invalid: 0123456789\n",
    "</code></pre>\n",
    "<p>Here are some invalid passports:</p>\n",
    "<pre><code>eyr:1972 cid:100\n",
    "hcl:#18171d ecl:amb hgt:170 pid:186cm iyr:2018 byr:1926\n",
    "\n",
    "iyr:2019\n",
    "hcl:#602927 eyr:1967 hgt:170cm\n",
    "ecl:grn pid:012533040 byr:1946\n",
    "\n",
    "hcl:dab227 iyr:2012\n",
    "ecl:brn hgt:182cm pid:021572410 eyr:2020 byr:1992 cid:277\n",
    "\n",
    "hgt:59cm ecl:zzz\n",
    "eyr:2038 hcl:74454a iyr:2023\n",
    "pid:3556412378 byr:2007\n",
    "</code></pre>\n",
    "<p>Here are some valid passports:</p>\n",
    "<pre><code>pid:087499704 hgt:74in ecl:grn iyr:2012 eyr:2030 byr:1980\n",
    "hcl:#623a2f\n",
    "\n",
    "eyr:2029 ecl:blu cid:129 byr:1989\n",
    "iyr:2014 pid:896056539 hcl:#a97842 hgt:165cm\n",
    "\n",
    "hcl:#888785\n",
    "hgt:164cm byr:2001 iyr:2015 cid:88\n",
    "pid:545766238 ecl:hzl\n",
    "eyr:2022\n",
    "\n",
    "iyr:2010 hgt:158cm hcl:#b6652a ecl:blu byr:1944 eyr:2021 pid:093154719\n",
    "</code></pre>\n",
    "<p>Count the number of <em>valid</em> passports - those that have all required fields <em>and valid values</em>. Continue to treat <code>cid</code> as optional. <em>In your batch file, how many passports are valid?</em></p>\n",
    "</article>\n",
    "<p>Your puzzle answer was <code>160</code>.</p>"
   ]
  },
  {
   "cell_type": "code",
   "execution_count": 1,
   "metadata": {},
   "outputs": [],
   "source": [
    "lambdas={'byr':lambda y:1920<=int(y)<=2002,\n",
    "         'eyr':lambda y:2020<=int(y)<=2030,\n",
    "         'iyr':lambda y:2010<=int(y)<=2020,\n",
    "         'pid':lambda s:s.isdecimal() and len(s)==9,\n",
    "         'hcl':lambda h:h.startswith(\"#\") and h[1:].isalnum(),\n",
    "         'ecl':lambda e:e in ('amb','blu','brn','gry','grn','hzl','oth'),\n",
    "         'hgt':lambda h:150<=int(h[:-2])<=193 if h.endswith('cm') else (59<=int(h[:-2])<=76 if h.endswith('in') else False)\n",
    "         }"
   ]
  },
  {
   "cell_type": "code",
   "execution_count": 2,
   "metadata": {},
   "outputs": [],
   "source": [
    "def passport_processing():\n",
    "    part1=0\n",
    "    part2=0\n",
    "    lines=[]\n",
    "    for d in [dict([p.split(':') for p in i.split()]) for i in open('data/day04.txt', 'r').read().split('\\n\\n')]:\n",
    "        if 'cid' in d:\n",
    "            del d['cid']\n",
    "        if len(d) < 7:\n",
    "            continue\n",
    "        part1+=1\n",
    "        try:\n",
    "            [z for k in lambdas.keys() if not lambdas[k](d[k])]\n",
    "        except:\n",
    "            continue\n",
    "        part2+=1\n",
    "    return (part1,part2)"
   ]
  },
  {
   "cell_type": "code",
   "execution_count": 3,
   "metadata": {},
   "outputs": [
    {
     "name": "stdout",
     "output_type": "stream",
     "text": [
      "(226, 160)\n"
     ]
    }
   ],
   "source": [
    "print(passport_processing())"
   ]
  },
  {
   "cell_type": "code",
   "execution_count": 4,
   "metadata": {},
   "outputs": [
    {
     "name": "stdout",
     "output_type": "stream",
     "text": [
      "1.87 ms ± 39 µs per loop (mean ± std. dev. of 7 runs, 1000 loops each)\n"
     ]
    }
   ],
   "source": [
    "%timeit passport_processing()"
   ]
  }
 ],
 "metadata": {
  "kernelspec": {
   "display_name": "Python 3",
   "language": "python",
   "name": "python3"
  },
  "language_info": {
   "codemirror_mode": {
    "name": "ipython",
    "version": 3
   },
   "file_extension": ".py",
   "mimetype": "text/x-python",
   "name": "python",
   "nbconvert_exporter": "python",
   "pygments_lexer": "ipython3",
   "version": "3.8.5"
  }
 },
 "nbformat": 4,
 "nbformat_minor": 4
}

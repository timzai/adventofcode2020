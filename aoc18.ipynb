{
 "cells": [
  {
   "cell_type": "markdown",
   "metadata": {},
   "source": [
    "https://adventofcode.com/2020/day/18\n",
    "\n",
    "<h2>--- Day 18: Operation Order ---</h2><p>As you look out the window and notice a heavily-forested continent slowly appear over the horizon, you are interrupted by the child sitting next to you. They're curious if you could help them with their <span title=\"Or &quot;maths&quot;, if you have more than one.\">math</span> homework.</p>\n",
    "<p>Unfortunately, it seems like this \"math\" <a href=\"https://www.youtube.com/watch?v=3QtRK7Y2pPU&t=15\" target=\"_blank\">follows different rules</a> than you remember.</p>\n",
    "<p>The homework (your puzzle input) consists of a series of expressions that consist of addition (<code>+</code>), multiplication (<code>*</code>), and parentheses (<code>(...)</code>). Just like normal math, parentheses indicate that the expression inside must be evaluated before it can be used by the surrounding expression. Addition still finds the sum of the numbers on both sides of the operator, and multiplication still finds the product.</p>\n",
    "<p>However, the rules of <em>operator precedence</em> have changed. Rather than evaluating multiplication before addition, the operators have the <em>same precedence</em>, and are evaluated left-to-right regardless of the order in which they appear.</p>\n",
    "<p>For example, the steps to evaluate the expression <code>1 + 2 * 3 + 4 * 5 + 6</code> are as follows:</p>\n",
    "<pre><code><em>1 + 2</em> * 3 + 4 * 5 + 6\n",
    "  <em>3   * 3</em> + 4 * 5 + 6\n",
    "      <em>9   + 4</em> * 5 + 6\n",
    "         <em>13   * 5</em> + 6\n",
    "             <em>65   + 6</em>\n",
    "                 <em>71</em>\n",
    "</code></pre>\n",
    "<p>Parentheses can override this order; for example, here is what happens if parentheses are added to form <code>1 + (2 * 3) + (4 * (5 + 6))</code>:</p>\n",
    "<pre><code>1 + <em>(2 * 3)</em> + (4 * (5 + 6))\n",
    "<em>1 +    6</em>    + (4 * (5 + 6))\n",
    "     7      + (4 * <em>(5 + 6)</em>)\n",
    "     7      + <em>(4 *   11   )</em>\n",
    "     <em>7      +     44</em>\n",
    "            <em>51</em>\n",
    "</code></pre>\n",
    "<p>Here are a few more examples:</p>\n",
    "<ul>\n",
    "<li><code>2 * 3 + (4 * 5)</code> becomes <em><code>26</code></em>.</li>\n",
    "<li><code>5 + (8 * 3 + 9 + 3 * 4 * 3)</code> becomes <em><code>437</code></em>.</li>\n",
    "<li><code>5 * 9 * (7 * 3 * 3 + 9 * 3 + (8 + 6 * 4))</code> becomes <em><code>12240</code></em>.</li>\n",
    "<li><code>((2 + 4 * 9) * (6 + 9 * 8 + 6) + 6) + 2 + 4 * 2</code> becomes <em><code>13632</code></em>.</li>\n",
    "</ul>\n",
    "<p>Before you can help with the homework, you need to understand it yourself. <em>Evaluate the expression on each line of the homework; what is the sum of the resulting values?</em></p>\n",
    "</article>\n",
    "<p>Your puzzle answer was <code>4297397455886</code>.</p><article class=\"day-desc\"><h2 id=\"part2\">--- Part Two ---</h2><p>You manage to answer the child's questions and they finish part 1 of their homework, but get stuck when they reach the next section: <em>advanced</em> math.</p>\n",
    "<p>Now, addition and multiplication have <em>different</em> precedence levels, but they're not the ones you're familiar with. Instead, addition is evaluated <em>before</em> multiplication.</p>\n",
    "<p>For example, the steps to evaluate the expression <code>1 + 2 * 3 + 4 * 5 + 6</code> are now as follows:</p>\n",
    "<pre><code><em>1 + 2</em> * 3 + 4 * 5 + 6\n",
    "  3   * <em>3 + 4</em> * 5 + 6\n",
    "  3   *   7   * <em>5 + 6</em>\n",
    "  <em>3   *   7</em>   *  11\n",
    "     <em>21       *  11</em>\n",
    "         <em>231</em>\n",
    "</code></pre>\n",
    "<p>Here are the other examples from above:</p>\n",
    "<ul>\n",
    "<li><code>1 + (2 * 3) + (4 * (5 + 6))</code> still becomes <em><code>51</code></em>.</li>\n",
    "<li><code>2 * 3 + (4 * 5)</code> becomes <em><code>46</code></em>.</li>\n",
    "<li><code>5 + (8 * 3 + 9 + 3 * 4 * 3)</code> becomes <em><code>1445</code></em>.</li>\n",
    "<li><code>5 * 9 * (7 * 3 * 3 + 9 * 3 + (8 + 6 * 4))</code> becomes <em><code>669060</code></em>.</li>\n",
    "<li><code>((2 + 4 * 9) * (6 + 9 * 8 + 6) + 6) + 2 + 4 * 2</code> becomes <em><code>23340</code></em>.</li>\n",
    "</ul>\n",
    "<p><em>What do you get if you add up the results of evaluating the homework problems using these new rules?</em></p>\n",
    "</article>\n",
    "<p>Your puzzle answer was <code>93000656194428</code>.</p>"
   ]
  },
  {
   "cell_type": "code",
   "execution_count": 1,
   "metadata": {},
   "outputs": [
    {
     "data": {
      "text/plain": [
       "(4297397455886, 93000656194428)"
      ]
     },
     "execution_count": 1,
     "metadata": {},
     "output_type": "execute_result"
    }
   ],
   "source": [
    "import copy\n",
    "\n",
    "def solve_problem(d,adv=False):\n",
    "    if len(d) == 3:\n",
    "        return [d[0] + d[2]] if d[1] == \"+\" else [d[0] * d[2]]\n",
    "\n",
    "    while True:\n",
    "        lidx = ridx = -1\n",
    "        for i,c in enumerate(d):\n",
    "            #find the first ) and the ( before that\n",
    "            if c == \"(\":\n",
    "                lidx = i\n",
    "            elif c == \")\":\n",
    "                ridx = i\n",
    "                break\n",
    "        if lidx != -1:\n",
    "            d[lidx:ridx+1] = solve_problem(d[lidx+1:ridx],adv)\n",
    "        else:\n",
    "            break\n",
    "            \n",
    "    if adv:\n",
    "        try: # do + first\n",
    "            while oidx := d.index(\"+\"): d[oidx-1:oidx+2] = solve_problem(d[oidx-1:oidx+2],adv)\n",
    "        except Exception: pass\n",
    "    \n",
    "    while len(d) > 1: d[0:3] = solve_problem(d[0:3],adv)\n",
    "        \n",
    "    return d\n",
    "\n",
    "data = [[int(x) if x.isnumeric() else x for x in y] for y in open(\"data/day18.txt\").read().replace(\" \",\"\").split()]\n",
    "(sum([solve_problem(d)[0] for d in copy.deepcopy(data)]),sum([solve_problem(d,True)[0] for d in data]))"
   ]
  }
 ],
 "metadata": {
  "kernelspec": {
   "display_name": "Python 3",
   "language": "python",
   "name": "python3"
  },
  "language_info": {
   "codemirror_mode": {
    "name": "ipython",
    "version": 3
   },
   "file_extension": ".py",
   "mimetype": "text/x-python",
   "name": "python",
   "nbconvert_exporter": "python",
   "pygments_lexer": "ipython3",
   "version": "3.8.5"
  }
 },
 "nbformat": 4,
 "nbformat_minor": 4
}

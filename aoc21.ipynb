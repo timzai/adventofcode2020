{
 "cells": [
  {
   "cell_type": "markdown",
   "metadata": {},
   "source": [
    "https://adventofcode.com/2020/day/21\n",
    "\n",
    "<h2>--- Day 21: Allergen Assessment ---</h2><p>You reach the train's last stop and the closest you can get to your vacation island without getting wet. There aren't even any boats here, but nothing can stop you now: you build a raft. You just need a few days' worth of food for your journey.</p>\n",
    "<p>You don't speak the local language, so you can't read any ingredients lists. However, sometimes, allergens are listed in a language you <em>do</em> understand. You should be able to use this information to determine which ingredient contains which allergen and <span title=\"I actually considered doing this once. I do not recommend it.\">work out which foods are safe</span> to take with you on your trip.</p>\n",
    "<p>You start by compiling a list of foods (your puzzle input), one food per line. Each line includes that food's <em>ingredients list</em> followed by some or all of the allergens the food contains.</p>\n",
    "<p>Each allergen is found in exactly one ingredient. Each ingredient contains zero or one allergen. <em>Allergens aren't always marked</em>; when they're listed (as in <code>(contains nuts, shellfish)</code> after an ingredients list), the ingredient that contains each listed allergen will be <em>somewhere in the corresponding ingredients list</em>. However, even if an allergen isn't listed, the ingredient that contains that allergen could still be present: maybe they forgot to label it, or maybe it was labeled in a language you don't know.</p>\n",
    "<p>For example, consider the following list of foods:</p>\n",
    "<pre><code>mxmxvkd kfcds sqjhc nhms (contains dairy, fish)\n",
    "trh fvjkl sbzzf mxmxvkd (contains dairy)\n",
    "sqjhc fvjkl (contains soy)\n",
    "sqjhc mxmxvkd sbzzf (contains fish)\n",
    "</code></pre>\n",
    "<p>The first food in the list has four ingredients (written in a language you don't understand): <code>mxmxvkd</code>, <code>kfcds</code>, <code>sqjhc</code>, and <code>nhms</code>. While the food might contain other allergens, a few allergens the food definitely contains are listed afterward: <code>dairy</code> and <code>fish</code>.</p>\n",
    "<p>The first step is to determine which ingredients <em>can't possibly</em> contain any of the allergens in any food in your list. In the above example, none of the ingredients <code>kfcds</code>, <code>nhms</code>, <code>sbzzf</code>, or <code>trh</code> can contain an allergen. Counting the number of times any of these ingredients appear in any ingredients list produces <em><code>5</code></em>: they all appear once each except <code>sbzzf</code>, which appears twice.</p>\n",
    "<p>Determine which ingredients cannot possibly contain any of the allergens in your list. <em>How many times do any of those ingredients appear?</em></p>\n",
    "</article>\n",
    "<p>Your puzzle answer was <code>2287</code>.</p><article class=\"day-desc\"><h2 id=\"part2\">--- Part Two ---</h2><p>Now that you've isolated the inert ingredients, you should have enough information to figure out which ingredient contains which allergen.</p>\n",
    "<p>In the above example:</p>\n",
    "<ul>\n",
    "<li><code>mxmxvkd</code> contains <code>dairy</code>.</li>\n",
    "<li><code>sqjhc</code> contains <code>fish</code>.</li>\n",
    "<li><code>fvjkl</code> contains <code>soy</code>.</li>\n",
    "</ul>\n",
    "<p>Arrange the ingredients <em>alphabetically by their allergen</em> and separate them by commas to produce your <em>canonical dangerous ingredient list</em>. (There should <em>not be any spaces</em> in your canonical dangerous ingredient list.) In the above example, this would be <em><code>mxmxvkd,sqjhc,fvjkl</code></em>.</p>\n",
    "<p>Time to stock your raft with supplies. <em>What is your canonical dangerous ingredient list?</em></p>\n",
    "</article>\n",
    "<p>Your puzzle answer was <code>fntg,gtqfrp,xlvrggj,rlsr,xpbxbv,jtjtrd,fvjkp,zhszc</code>.</p>"
   ]
  },
  {
   "cell_type": "code",
   "execution_count": 1,
   "metadata": {},
   "outputs": [
    {
     "data": {
      "text/plain": [
       "(2287, 'fntg,gtqfrp,xlvrggj,rlsr,xpbxbv,jtjtrd,fvjkp,zhszc')"
      ]
     },
     "execution_count": 1,
     "metadata": {},
     "output_type": "execute_result"
    }
   ],
   "source": [
    "from functools import reduce\n",
    "\n",
    "il, al = zip(*[(set(i.split()), a[:-1].split(\", \"))  for i,a in [f.split(\" (contains \") for f in open(\"data/day21.txt\").read().split(\"\\n\")[:-1]]])\n",
    "\n",
    "ad = {}\n",
    "for i,a in enumerate(al):\n",
    "    for aa in a:\n",
    "        ad[aa] = ad.get(aa,[]) + [i]\n",
    "\n",
    "p = {k:set.intersection(*[il[i] for i in v]) for k,v in ad.items()}\n",
    "\n",
    "allergens = {}\n",
    "while p:\n",
    "    for k,v in p.items():\n",
    "        if len(v) == 1:\n",
    "            allergens[k] = v\n",
    "            del p[k]\n",
    "            for j in p:\n",
    "                p[j] -= v\n",
    "            break\n",
    "\n",
    "all_allergens = reduce(lambda a,b:a|b,allergens.values())\n",
    "\n",
    "(reduce(lambda a,b:a+len(b),[s-all_allergens for s in il],0), \",\".join([allergens[k].pop() for k in sorted(allergens.keys())]))"
   ]
  }
 ],
 "metadata": {
  "kernelspec": {
   "display_name": "Python 3",
   "language": "python",
   "name": "python3"
  },
  "language_info": {
   "codemirror_mode": {
    "name": "ipython",
    "version": 3
   },
   "file_extension": ".py",
   "mimetype": "text/x-python",
   "name": "python",
   "nbconvert_exporter": "python",
   "pygments_lexer": "ipython3",
   "version": "3.8.5"
  }
 },
 "nbformat": 4,
 "nbformat_minor": 4
}
